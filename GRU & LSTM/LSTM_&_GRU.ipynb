{
  "nbformat": 4,
  "nbformat_minor": 0,
  "metadata": {
    "colab": {
      "provenance": [],
      "gpuType": "T4"
    },
    "kernelspec": {
      "name": "python3",
      "display_name": "Python 3"
    },
    "language_info": {
      "name": "python"
    },
    "accelerator": "GPU"
  },
  "cells": [
    {
      "cell_type": "code",
      "execution_count": 1,
      "metadata": {
        "colab": {
          "base_uri": "https://localhost:8080/"
        },
        "id": "mTLY-6Or5nfe",
        "outputId": "a8f24a1b-944d-4696-c62c-8f572c47c8ba"
      },
      "outputs": [
        {
          "output_type": "stream",
          "name": "stdout",
          "text": [
            "Drive already mounted at /content/drive; to attempt to forcibly remount, call drive.mount(\"/content/drive\", force_remount=True).\n"
          ]
        }
      ],
      "source": [
        "from google.colab import drive\n",
        "drive.mount('/content/drive')"
      ]
    },
    {
      "cell_type": "code",
      "source": [
        "import sys\n",
        "sys.path.append('/content/drive/My Drive/amal')\n",
        "import torch\n",
        "from torch.utils.data import DataLoader,Subset\n",
        "from textloader import TextDataset,CONTENU,pad_collate_fn,TAILLE_VOCA,PAD_IX,EOS_IX\n",
        "from generate import generate_beam,generate,generate_beam_nucleus\n",
        "from utils import maskedCrossEntropy,get_y\n",
        "from modules import Embedder_RNN , LSTM , GRU\n",
        "from tqdm import tqdm\n",
        "import numpy as np\n",
        "import matplotlib.pyplot as plt"
      ],
      "metadata": {
        "id": "28poWAkz7Orr"
      },
      "execution_count": 2,
      "outputs": []
    },
    {
      "cell_type": "code",
      "source": [
        "# <<<<<<<<<<<<<<<<<<<<<<<<<<<<<<<<<<<<<<<<<<<<<<<<<<<<<<<<<<<<<<<<<<<<<<<<<<<<<<<\n",
        "# <<<<<<<<<<<<<<<<<<<<<<<<<<<<<<<< LOADING DATA <<<<<<<<<<<<<<<<<<<<<<<<<<<<<<<<<\n",
        "# <<<<<<<<<<<<<<<<<<<<<<<<<<<<<<<<<<<<<<<<<<<<<<<<<<<<<<<<<<<<<<<<<<<<<<<<<<<<<<<\n",
        "\n",
        "TAILLE_DATASET = 1000\n",
        "ds = TextDataset(CONTENU)\n",
        "subset_indices = torch.randint(1,1000,(TAILLE_DATASET,))\n",
        "ds = Subset(ds, subset_indices)\n",
        "loader = DataLoader(ds, collate_fn=pad_collate_fn, batch_size=32)"
      ],
      "metadata": {
        "id": "q-erHq3156N7"
      },
      "execution_count": 3,
      "outputs": []
    },
    {
      "cell_type": "code",
      "source": [
        "if torch.cuda.is_available():\n",
        "    device = torch.device(\"cuda\")\n",
        "else:\n",
        "    device = torch.device(\"cpu\")"
      ],
      "metadata": {
        "id": "b6apyvRg-_dz"
      },
      "execution_count": 4,
      "outputs": []
    },
    {
      "cell_type": "markdown",
      "source": [
        "# LSTM"
      ],
      "metadata": {
        "id": "IVRJemTqB2nl"
      }
    },
    {
      "cell_type": "code",
      "source": [
        "\n",
        "# <<<<<<<<<<<<<<<<<<<<<<<<<<<<<<<<<<<<<<<<<<<<<<<<<<<<<<<<<<<<<<<<<<<<<<<<<<<<<<<\n",
        "# <<<<<<<<<<<<<<<<<<<<<<<<<<<<<<<<< LSTM TEST <<<<<<<<<<<<<<<<<<<<<<<<<<<<<<<<<<<\n",
        "# <<<<<<<<<<<<<<<<<<<<<<<<<<<<<<<<<<<<<<<<<<<<<<<<<<<<<<<<<<<<<<<<<<<<<<<<<<<<<<<\n",
        "\n",
        "dim_in = TAILLE_VOCA\n",
        "dim_lat = 60\n",
        "dim_out = TAILLE_VOCA\n",
        "lstm = LSTM(dim_in,dim_lat,dim_out)\n",
        "embedder_lstm = Embedder_RNN(TAILLE_VOCA+1,TAILLE_VOCA,lstm)\n",
        "embedder_lstm = embedder_lstm.to(device)\n",
        "\n",
        "\n",
        "LEARNING_RATE = 1e-1\n",
        "EPOCHS = 50\n",
        "optimizer = torch.optim.Adam(params=embedder_lstm.parameters() ,lr=LEARNING_RATE)\n",
        "\n",
        "\n",
        "losses_lstm = []\n",
        "for epoch in tqdm(range(EPOCHS)):\n",
        "    temp_loss = []\n",
        "    for x in loader:\n",
        "\n",
        "        x = x.to(device)\n",
        "        optimizer.zero_grad()\n",
        "\n",
        "        # dans y il y'aura la meme sequence que x mais decalé d'un caractere\n",
        "        y = get_y(x)\n",
        "        xhat = embedder_lstm.embed(x)\n",
        "        h,liste_h,c,liste_c = embedder_lstm(x)\n",
        "        output_decoded = embedder_lstm.decode(liste_h)\n",
        "        loss = maskedCrossEntropy(output_decoded,y,padcar=PAD_IX)\n",
        "\n",
        "        loss.backward()\n",
        "        optimizer.step()\n",
        "\n",
        "        #with torch.no_grad():\n",
        "        temp_loss.append(loss.item())\n",
        "\n",
        "    losses_lstm.append(np.mean(temp_loss))"
      ],
      "metadata": {
        "colab": {
          "base_uri": "https://localhost:8080/"
        },
        "id": "AoOmdy_U56ZT",
        "outputId": "bcea5df0-c5fe-4527-93b4-7a69b91f9379"
      },
      "execution_count": 16,
      "outputs": [
        {
          "output_type": "stream",
          "name": "stderr",
          "text": [
            "100%|██████████| 50/50 [07:34<00:00,  9.09s/it]\n"
          ]
        }
      ]
    },
    {
      "cell_type": "code",
      "source": [
        "plt.plot(range(EPOCHS) , losses_lstm)\n",
        "plt.title(\"Loss LSTM\")\n",
        "plt.show()"
      ],
      "metadata": {
        "colab": {
          "base_uri": "https://localhost:8080/",
          "height": 452
        },
        "id": "zATm0F2g56b2",
        "outputId": "1095420c-1165-435e-e674-7413e1464688"
      },
      "execution_count": 17,
      "outputs": [
        {
          "output_type": "display_data",
          "data": {
            "text/plain": [
              "<Figure size 640x480 with 1 Axes>"
            ],
            "image/png": "[encoded data removed]"
          },
          "metadata": {}
        }
      ]
    },
    {
      "cell_type": "code",
      "source": [
        "print(\"Simple generation : \")\n",
        "\n",
        "for _ in range(10):\n",
        "  sentence_generated = generate(embedder_lstm,EOS_IX, start=\"There is \", maxlen=200)\n",
        "  print(sentence_generated)\n",
        "  print()"
      ],
      "metadata": {
        "colab": {
          "base_uri": "https://localhost:8080/"
        },
        "id": "E6ygD62nGRmv",
        "outputId": "51606464-9aad-49f1-c4ff-cfa4c2c06b98"
      },
      "execution_count": 19,
      "outputs": [
        {
          "output_type": "stream",
          "name": "stdout",
          "text": [
            "Simple generation : \n",
            "Generation of 21 caracteres from <There is > \n",
            "There is off 2Hnmste doin awha.<EOS>\n",
            "\n",
            "Generation of 9 caracteres from <There is > \n",
            "There is sston ant.<EOS>\n",
            "\n",
            "Generation of 63 caracteres from <There is > \n",
            "There is of tas prcybody you hister vorden Eatild, \"In tedg ylorommp ece.<EOS>\n",
            "\n",
            "Generation of 80 caracteres from <There is > \n",
            "There is astenend wor jr withe so, I wayoff therobeor aiter: Unitarst etad Sthe fore fore.<EOS>\n",
            "\n",
            "Generation of 15 caracteres from <There is > \n",
            "There is of kes tserause.<EOS>\n",
            "\n",
            "Generation of 38 caracteres from <There is > \n",
            "There is of avee of the morte ther-Trout thorde.<EOS>\n",
            "\n",
            "Generation of 10 caracteres from <There is > \n",
            "There is hate: Sire.<EOS>\n",
            "\n",
            "Generation of 18 caracteres from <There is > \n",
            "There is our to to ckse ste.<EOS>\n",
            "\n",
            "Generation of 8 caracteres from <There is > \n",
            "There is fror jan.<EOS>\n",
            "\n",
            "Generation of 7 caracteres from <There is > \n",
            "There is to now?.<EOS>\n",
            "\n"
          ]
        }
      ]
    },
    {
      "cell_type": "markdown",
      "source": [
        "# GRU"
      ],
      "metadata": {
        "id": "-ruOIqg5B4dA"
      }
    },
    {
      "cell_type": "code",
      "source": [
        "dim_in = TAILLE_VOCA\n",
        "dim_lat = 60\n",
        "dim_out = TAILLE_VOCA\n",
        "gru = GRU(dim_in,dim_lat,dim_out)\n",
        "embedder_gru = Embedder_RNN(TAILLE_VOCA+1,TAILLE_VOCA,gru)\n",
        "embedder_gru.to(device)\n",
        "\n",
        "\n",
        "LEARNING_RATE = 1e-1\n",
        "EPOCHS = 50\n",
        "optimizer = torch.optim.Adam(params=embedder_gru.parameters() ,lr=LEARNING_RATE)\n",
        "\n",
        "\n",
        "losses_gru = []\n",
        "for epoch in tqdm(range(EPOCHS)):\n",
        "    temp_loss = []\n",
        "    for x in loader:\n",
        "\n",
        "        optimizer.zero_grad()\n",
        "        x = x.to(device)\n",
        "\n",
        "        # dans y il y'aura la meme sequence que x mais decalé d'un caractere\n",
        "        y = get_y(x)\n",
        "        xhat = embedder_gru.embed(x)\n",
        "        h,liste_h = embedder_gru(x)\n",
        "        output_decoded = embedder_gru.decode(liste_h)\n",
        "        loss = maskedCrossEntropy(output_decoded,y,padcar=PAD_IX)\n",
        "\n",
        "        loss.backward()\n",
        "        optimizer.step()\n",
        "\n",
        "\n",
        "        with torch.no_grad():\n",
        "            temp_loss.append(loss.item())\n",
        "\n",
        "    losses_gru.append(np.mean(temp_loss))"
      ],
      "metadata": {
        "colab": {
          "base_uri": "https://localhost:8080/"
        },
        "id": "eDxxs8ye56d8",
        "outputId": "56e87e58-c3fd-4b8e-b14f-95d7cac7e779"
      },
      "execution_count": 20,
      "outputs": [
        {
          "output_type": "stream",
          "name": "stderr",
          "text": [
            "100%|██████████| 50/50 [06:37<00:00,  7.94s/it]\n"
          ]
        }
      ]
    },
    {
      "cell_type": "code",
      "source": [
        "plt.plot(range(EPOCHS) , losses_gru)\n",
        "plt.title(\"Loss GRU\")\n",
        "plt.show()"
      ],
      "metadata": {
        "colab": {
          "base_uri": "https://localhost:8080/",
          "height": 452
        },
        "id": "wWn68kFt56f9",
        "outputId": "7d930664-8500-4d83-e93a-b3f4d98c372f"
      },
      "execution_count": 21,
      "outputs": [
        {
          "output_type": "display_data",
          "data": {
            "text/plain": [
              "<Figure size 640x480 with 1 Axes>"
            ],
            "image/png": "[encoded data removed]"
          },
          "metadata": {}
        }
      ]
    },
    {
      "cell_type": "code",
      "source": [
        "print(\"Simple generation : \")\n",
        "\n",
        "for _ in range(10):\n",
        "  sentence_generated_gru = generate(embedder_gru,EOS_IX, start=\"There is \", maxlen=200)\n",
        "  print(sentence_generated_gru)\n",
        "  print()"
      ],
      "metadata": {
        "colab": {
          "base_uri": "https://localhost:8080/"
        },
        "id": "7qlVamdy56i1",
        "outputId": "5c2e2a56-d46b-4cb7-b6d2-093b26c4a56d"
      },
      "execution_count": 22,
      "outputs": [
        {
          "output_type": "stream",
          "name": "stdout",
          "text": [
            "Simple generation : \n",
            "Generation of 5 caracteres from <There is > \n",
            "There is Ifraq.<EOS>\n",
            "\n",
            "Generation of 66 caracteres from <There is > \n",
            "There is deallyitel cat reberecagre guon ghappliod lot we al gefutidn masle.<EOS>\n",
            "\n",
            "Generation of 200 caracteres from <There is > \n",
            "There is evas pes mie bener repes un to my ran Irant Al ign ISISISISISIranat to to now havernoiter off the Uof, the Uing  sap of pare we bing silwilild e po, ist un Menert hao xpelud in can caw evene Mexr rougra\n",
            "\n",
            "Generation of 52 caracteres from <There is > \n",
            "There is now wort not me  saies reprist fid we  hinier I maby.<EOS>\n",
            "\n",
            "Generation of 200 caracteres from <There is > \n",
            "There is whe it, a to leabs bin s it me we me loot of of ut hoend ister cit lown I latrin,y itony gower wotut nee Unowtatran be of af toy's reall o Eaym miend e don't peoban gof ifrading to are luto I fill csid,\n",
            "\n",
            "Generation of 200 caracteres from <There is > \n",
            "There is isd nown'mempr a se m ute to its the Uoun in nowifraq I arut al're we now pomest blaus on Fele  terest going ISISISISISISros the Gonee woer watire the he Unorald Sen Mernitoe mowiver mas fire I won't si\n",
            "\n",
            "Generation of 47 caracteres from <There is > \n",
            "There is aftien poure agrer wo no, Ir honesing polingass.<EOS>\n",
            "\n",
            "Generation of 6 caracteres from <There is > \n",
            "There is of sin.<EOS>\n",
            "\n",
            "Generation of 19 caracteres from <There is > \n",
            "There is noty exely hse mung.<EOS>\n",
            "\n",
            "Generation of 88 caracteres from <There is > \n",
            "There is tir ressruders al ef, I we go have corlayed St thes me myaiend say propre  rand Preaelle.<EOS>\n",
            "\n"
          ]
        }
      ]
    },
    {
      "cell_type": "code",
      "source": [],
      "metadata": {
        "id": "Mab8jDP_JeKu"
      },
      "execution_count": null,
      "outputs": []
    }
  ]
}